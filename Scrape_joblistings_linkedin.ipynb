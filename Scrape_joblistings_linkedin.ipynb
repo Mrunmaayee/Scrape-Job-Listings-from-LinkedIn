{
  "nbformat": 4,
  "nbformat_minor": 0,
  "metadata": {
    "colab": {
      "provenance": []
    },
    "kernelspec": {
      "name": "python3",
      "display_name": "Python 3"
    },
    "language_info": {
      "name": "python"
    }
  },
  "cells": [
    {
      "cell_type": "code",
      "source": [
        "!pip install requests"
      ],
      "metadata": {
        "colab": {
          "base_uri": "https://localhost:8080/"
        },
        "id": "v9Au_EKIACgb",
        "outputId": "cde3d4f1-862f-4af8-a7d6-77c23d947ff0"
      },
      "execution_count": null,
      "outputs": [
        {
          "output_type": "stream",
          "name": "stdout",
          "text": [
            "Requirement already satisfied: requests in /usr/local/lib/python3.10/dist-packages (2.31.0)\n",
            "Requirement already satisfied: charset-normalizer<4,>=2 in /usr/local/lib/python3.10/dist-packages (from requests) (3.3.2)\n",
            "Requirement already satisfied: idna<4,>=2.5 in /usr/local/lib/python3.10/dist-packages (from requests) (3.6)\n",
            "Requirement already satisfied: urllib3<3,>=1.21.1 in /usr/local/lib/python3.10/dist-packages (from requests) (2.0.7)\n",
            "Requirement already satisfied: certifi>=2017.4.17 in /usr/local/lib/python3.10/dist-packages (from requests) (2023.11.17)\n"
          ]
        }
      ]
    },
    {
      "cell_type": "code",
      "execution_count": null,
      "metadata": {
        "colab": {
          "base_uri": "https://localhost:8080/"
        },
        "id": "v4Ip-wPQeHAk",
        "outputId": "682aee97-ffe7-42af-c11b-e20b2563efd9"
      },
      "outputs": [
        {
          "output_type": "stream",
          "name": "stdout",
          "text": [
            "Collecting requests_html\n",
            "  Downloading requests_html-0.10.0-py3-none-any.whl (13 kB)\n",
            "Requirement already satisfied: requests in /usr/local/lib/python3.10/dist-packages (from requests_html) (2.31.0)\n",
            "Collecting pyquery (from requests_html)\n",
            "  Downloading pyquery-2.0.0-py3-none-any.whl (22 kB)\n",
            "Collecting fake-useragent (from requests_html)\n",
            "  Downloading fake_useragent-1.4.0-py3-none-any.whl (15 kB)\n",
            "Collecting parse (from requests_html)\n",
            "  Downloading parse-1.20.0-py2.py3-none-any.whl (19 kB)\n",
            "Collecting bs4 (from requests_html)\n",
            "  Downloading bs4-0.0.1.tar.gz (1.1 kB)\n",
            "  Preparing metadata (setup.py) ... \u001b[?25l\u001b[?25hdone\n",
            "Collecting w3lib (from requests_html)\n",
            "  Downloading w3lib-2.1.2-py3-none-any.whl (21 kB)\n",
            "Collecting pyppeteer>=0.0.14 (from requests_html)\n",
            "  Downloading pyppeteer-1.0.2-py3-none-any.whl (83 kB)\n",
            "\u001b[2K     \u001b[90m━━━━━━━━━━━━━━━━━━━━━━━━━━━━━━━━━━━━━━━━\u001b[0m \u001b[32m83.4/83.4 kB\u001b[0m \u001b[31m3.5 MB/s\u001b[0m eta \u001b[36m0:00:00\u001b[0m\n",
            "\u001b[?25hRequirement already satisfied: appdirs<2.0.0,>=1.4.3 in /usr/local/lib/python3.10/dist-packages (from pyppeteer>=0.0.14->requests_html) (1.4.4)\n",
            "Requirement already satisfied: certifi>=2021 in /usr/local/lib/python3.10/dist-packages (from pyppeteer>=0.0.14->requests_html) (2023.11.17)\n",
            "Requirement already satisfied: importlib-metadata>=1.4 in /usr/local/lib/python3.10/dist-packages (from pyppeteer>=0.0.14->requests_html) (7.0.0)\n",
            "Collecting pyee<9.0.0,>=8.1.0 (from pyppeteer>=0.0.14->requests_html)\n",
            "  Downloading pyee-8.2.2-py2.py3-none-any.whl (12 kB)\n",
            "Requirement already satisfied: tqdm<5.0.0,>=4.42.1 in /usr/local/lib/python3.10/dist-packages (from pyppeteer>=0.0.14->requests_html) (4.66.1)\n",
            "Collecting urllib3<2.0.0,>=1.25.8 (from pyppeteer>=0.0.14->requests_html)\n",
            "  Downloading urllib3-1.26.18-py2.py3-none-any.whl (143 kB)\n",
            "\u001b[2K     \u001b[90m━━━━━━━━━━━━━━━━━━━━━━━━━━━━━━━━━━━━━━━━\u001b[0m \u001b[32m143.8/143.8 kB\u001b[0m \u001b[31m3.7 MB/s\u001b[0m eta \u001b[36m0:00:00\u001b[0m\n",
            "\u001b[?25hCollecting websockets<11.0,>=10.0 (from pyppeteer>=0.0.14->requests_html)\n",
            "  Downloading websockets-10.4-cp310-cp310-manylinux_2_5_x86_64.manylinux1_x86_64.manylinux_2_17_x86_64.manylinux2014_x86_64.whl (106 kB)\n",
            "\u001b[2K     \u001b[90m━━━━━━━━━━━━━━━━━━━━━━━━━━━━━━━━━━━━━━━━\u001b[0m \u001b[32m106.8/106.8 kB\u001b[0m \u001b[31m4.5 MB/s\u001b[0m eta \u001b[36m0:00:00\u001b[0m\n",
            "\u001b[?25hRequirement already satisfied: beautifulsoup4 in /usr/local/lib/python3.10/dist-packages (from bs4->requests_html) (4.11.2)\n",
            "Requirement already satisfied: lxml>=2.1 in /usr/local/lib/python3.10/dist-packages (from pyquery->requests_html) (4.9.4)\n",
            "Collecting cssselect>=1.2.0 (from pyquery->requests_html)\n",
            "  Downloading cssselect-1.2.0-py2.py3-none-any.whl (18 kB)\n",
            "Requirement already satisfied: charset-normalizer<4,>=2 in /usr/local/lib/python3.10/dist-packages (from requests->requests_html) (3.3.2)\n",
            "Requirement already satisfied: idna<4,>=2.5 in /usr/local/lib/python3.10/dist-packages (from requests->requests_html) (3.6)\n",
            "Requirement already satisfied: zipp>=0.5 in /usr/local/lib/python3.10/dist-packages (from importlib-metadata>=1.4->pyppeteer>=0.0.14->requests_html) (3.17.0)\n",
            "Requirement already satisfied: soupsieve>1.2 in /usr/local/lib/python3.10/dist-packages (from beautifulsoup4->bs4->requests_html) (2.5)\n",
            "Building wheels for collected packages: bs4\n",
            "  Building wheel for bs4 (setup.py) ... \u001b[?25l\u001b[?25hdone\n",
            "  Created wheel for bs4: filename=bs4-0.0.1-py3-none-any.whl size=1256 sha256=c98e267645bb978bc559f7da292e8df264a061cb1e46ffbce762b42df2df0d56\n",
            "  Stored in directory: /root/.cache/pip/wheels/25/42/45/b773edc52acb16cd2db4cf1a0b47117e2f69bb4eb300ed0e70\n",
            "Successfully built bs4\n",
            "Installing collected packages: pyee, parse, fake-useragent, websockets, w3lib, urllib3, cssselect, pyquery, pyppeteer, bs4, requests_html\n",
            "  Attempting uninstall: urllib3\n",
            "    Found existing installation: urllib3 2.0.7\n",
            "    Uninstalling urllib3-2.0.7:\n",
            "      Successfully uninstalled urllib3-2.0.7\n",
            "Successfully installed bs4-0.0.1 cssselect-1.2.0 fake-useragent-1.4.0 parse-1.20.0 pyee-8.2.2 pyppeteer-1.0.2 pyquery-2.0.0 requests_html-0.10.0 urllib3-1.26.18 w3lib-2.1.2 websockets-10.4\n"
          ]
        }
      ],
      "source": [
        "!pip install requests_html"
      ]
    },
    {
      "cell_type": "code",
      "source": [
        "import pandas as pd"
      ],
      "metadata": {
        "id": "sToTDWz1v9Tb"
      },
      "execution_count": null,
      "outputs": []
    },
    {
      "cell_type": "code",
      "source": [
        "import requests\n",
        "\n",
        "from bs4 import BeautifulSoup\n",
        "from sqlalchemy import create_engine, Column, String, Integer, MetaData, Table\n",
        "from sqlalchemy.orm import sessionmaker\n",
        "from sqlalchemy.ext.declarative import declarative_base\n",
        "\n",
        "\n",
        "# Define the database connection\n",
        "DATABASE_URL = \"sqlite:///linkedin_jobs.db\"\n",
        "engine = create_engine(DATABASE_URL, echo=True)\n",
        "\n",
        "# Define the database schema\n",
        "Base = declarative_base()\n",
        "\n",
        "class JobListing(Base):\n",
        "    __tablename__ = '_job_listings_'\n",
        "    id = Column(Integer, primary_key=True, autoincrement=True)\n",
        "    job_title = Column(String)\n",
        "    company_name = Column(String)\n",
        "    job_location = Column(String)\n",
        "\n",
        "# Create the database table\n",
        "Base.metadata.create_all(bind=engine)\n",
        "\n",
        "# initialize db session\n",
        "Session = sessionmaker(bind=engine)\n",
        "db_session = Session()"
      ],
      "metadata": {
        "id": "_nn1t228CLL2",
        "colab": {
          "base_uri": "https://localhost:8080/"
        },
        "outputId": "cc65a199-2877-474b-98d9-d46b109d8318"
      },
      "execution_count": null,
      "outputs": [
        {
          "output_type": "stream",
          "name": "stdout",
          "text": [
            "2024-01-08 15:07:44,149 INFO sqlalchemy.engine.Engine BEGIN (implicit)\n"
          ]
        },
        {
          "output_type": "stream",
          "name": "stderr",
          "text": [
            "<ipython-input-5-713b2f68fff8>:17: MovedIn20Warning: The ``declarative_base()`` function is now available as sqlalchemy.orm.declarative_base(). (deprecated since: 2.0) (Background on SQLAlchemy 2.0 at: https://sqlalche.me/e/b8d9)\n",
            "  Base = declarative_base()\n",
            "INFO:sqlalchemy.engine.Engine:BEGIN (implicit)\n"
          ]
        },
        {
          "output_type": "stream",
          "name": "stdout",
          "text": [
            "2024-01-08 15:07:44,156 INFO sqlalchemy.engine.Engine PRAGMA main.table_info(\"_job_listings_\")\n"
          ]
        },
        {
          "output_type": "stream",
          "name": "stderr",
          "text": [
            "INFO:sqlalchemy.engine.Engine:PRAGMA main.table_info(\"_job_listings_\")\n"
          ]
        },
        {
          "output_type": "stream",
          "name": "stdout",
          "text": [
            "2024-01-08 15:07:44,160 INFO sqlalchemy.engine.Engine [raw sql] ()\n"
          ]
        },
        {
          "output_type": "stream",
          "name": "stderr",
          "text": [
            "INFO:sqlalchemy.engine.Engine:[raw sql] ()\n"
          ]
        },
        {
          "output_type": "stream",
          "name": "stdout",
          "text": [
            "2024-01-08 15:07:44,164 INFO sqlalchemy.engine.Engine PRAGMA temp.table_info(\"_job_listings_\")\n"
          ]
        },
        {
          "output_type": "stream",
          "name": "stderr",
          "text": [
            "INFO:sqlalchemy.engine.Engine:PRAGMA temp.table_info(\"_job_listings_\")\n"
          ]
        },
        {
          "output_type": "stream",
          "name": "stdout",
          "text": [
            "2024-01-08 15:07:44,170 INFO sqlalchemy.engine.Engine [raw sql] ()\n"
          ]
        },
        {
          "output_type": "stream",
          "name": "stderr",
          "text": [
            "INFO:sqlalchemy.engine.Engine:[raw sql] ()\n"
          ]
        },
        {
          "output_type": "stream",
          "name": "stdout",
          "text": [
            "2024-01-08 15:07:44,173 INFO sqlalchemy.engine.Engine \n",
            "CREATE TABLE _job_listings_ (\n",
            "\tid INTEGER NOT NULL, \n",
            "\tjob_title VARCHAR, \n",
            "\tcompany_name VARCHAR, \n",
            "\tjob_location VARCHAR, \n",
            "\tPRIMARY KEY (id)\n",
            ")\n",
            "\n",
            "\n"
          ]
        },
        {
          "output_type": "stream",
          "name": "stderr",
          "text": [
            "INFO:sqlalchemy.engine.Engine:\n",
            "CREATE TABLE _job_listings_ (\n",
            "\tid INTEGER NOT NULL, \n",
            "\tjob_title VARCHAR, \n",
            "\tcompany_name VARCHAR, \n",
            "\tjob_location VARCHAR, \n",
            "\tPRIMARY KEY (id)\n",
            ")\n",
            "\n",
            "\n"
          ]
        },
        {
          "output_type": "stream",
          "name": "stdout",
          "text": [
            "2024-01-08 15:07:44,176 INFO sqlalchemy.engine.Engine [no key 0.00215s] ()\n"
          ]
        },
        {
          "output_type": "stream",
          "name": "stderr",
          "text": [
            "INFO:sqlalchemy.engine.Engine:[no key 0.00215s] ()\n"
          ]
        },
        {
          "output_type": "stream",
          "name": "stdout",
          "text": [
            "2024-01-08 15:07:44,188 INFO sqlalchemy.engine.Engine COMMIT\n"
          ]
        },
        {
          "output_type": "stream",
          "name": "stderr",
          "text": [
            "INFO:sqlalchemy.engine.Engine:COMMIT\n"
          ]
        }
      ]
    },
    {
      "cell_type": "code",
      "source": [
        "# sample job url\n",
        "job_url = \"https://www.linkedin.com/jobs/search/?currentJobId=3778638090&geoId=108804006&keywords=Data%20Analyst&location=Nagpur%2C%20Maharashtra%2C%20India\"\n",
        "\n",
        "# query job url and parse job listings\n",
        "response = requests.get(job_url)\n",
        "soup = BeautifulSoup(response.content, \"html.parser\")\n",
        "listings = soup.find_all(\"div\", class_=\"base-search-card__info\")\n",
        "print(len(listings))\n",
        "\n",
        "for listing in listings:\n",
        "    title = listing.find(\"h3\").text.strip()\n",
        "    company = listing.find(\"h4\").text.strip()\n",
        "    location = listing.find(\"span\", class_=\"job-search-card__location\").text.strip()\n",
        "\n",
        "    job_entry = JobListing(job_title=title, company_name=company, job_location=location)\n",
        "    # add job listing to the db\n",
        "    db_session.add(job_entry)\n",
        "\n",
        "# commit the job listings to the db\n",
        "db_session.commit()\n",
        "\n",
        "# close the session\n",
        "db_session.close()"
      ],
      "metadata": {
        "id": "jEik8yQrCLhy",
        "colab": {
          "base_uri": "https://localhost:8080/"
        },
        "outputId": "76c5aa31-f924-451b-a613-f37a3b0421fd"
      },
      "execution_count": null,
      "outputs": [
        {
          "output_type": "stream",
          "name": "stdout",
          "text": [
            "14\n",
            "Salesforce - Lead Developer\n",
            "AEM Developer\n",
            "Hitachi Systems - L2 Systems Engineer - Hyper-V/XenServer\n",
            "Hitachi Systems - L1 Systems Engineer - Virtualization Technologies\n",
            "HCL Commerce Developer\n",
            "Appian Developer\n",
            "Lead Java Developer\n",
            "Salesforce Developer - Apex/SOQL\n",
            "Amantya Technologies - Angular Developer - Javascript/TypeScript\n",
            "Senior Dotnet Developer\n",
            "Salesforce Developer - Lightning Component Framework\n",
            "Hitachi Systems - L3 Systems Engineer - Virtualization/ESXi\n",
            "Dotnet Developer\n",
            "Sap Advanced Business Application Programming Developer\n",
            "2024-01-08 15:07:52,106 INFO sqlalchemy.engine.Engine BEGIN (implicit)\n"
          ]
        },
        {
          "output_type": "stream",
          "name": "stderr",
          "text": [
            "INFO:sqlalchemy.engine.Engine:BEGIN (implicit)\n"
          ]
        },
        {
          "output_type": "stream",
          "name": "stdout",
          "text": [
            "2024-01-08 15:07:52,116 INFO sqlalchemy.engine.Engine INSERT INTO _job_listings_ (job_title, company_name, job_location) VALUES (?, ?, ?) RETURNING id\n"
          ]
        },
        {
          "output_type": "stream",
          "name": "stderr",
          "text": [
            "INFO:sqlalchemy.engine.Engine:INSERT INTO _job_listings_ (job_title, company_name, job_location) VALUES (?, ?, ?) RETURNING id\n"
          ]
        },
        {
          "output_type": "stream",
          "name": "stdout",
          "text": [
            "2024-01-08 15:07:52,122 INFO sqlalchemy.engine.Engine [generated in 0.00027s (insertmanyvalues) 1/14 (ordered; batch not supported)] ('Salesforce - Lead Developer', 'Perficient', 'Nagpur, Maharashtra, India')\n"
          ]
        },
        {
          "output_type": "stream",
          "name": "stderr",
          "text": [
            "INFO:sqlalchemy.engine.Engine:[generated in 0.00027s (insertmanyvalues) 1/14 (ordered; batch not supported)] ('Salesforce - Lead Developer', 'Perficient', 'Nagpur, Maharashtra, India')\n"
          ]
        },
        {
          "output_type": "stream",
          "name": "stdout",
          "text": [
            "2024-01-08 15:07:52,126 INFO sqlalchemy.engine.Engine INSERT INTO _job_listings_ (job_title, company_name, job_location) VALUES (?, ?, ?) RETURNING id\n"
          ]
        },
        {
          "output_type": "stream",
          "name": "stderr",
          "text": [
            "INFO:sqlalchemy.engine.Engine:INSERT INTO _job_listings_ (job_title, company_name, job_location) VALUES (?, ?, ?) RETURNING id\n"
          ]
        },
        {
          "output_type": "stream",
          "name": "stdout",
          "text": [
            "2024-01-08 15:07:52,129 INFO sqlalchemy.engine.Engine [insertmanyvalues 2/14 (ordered; batch not supported)] ('AEM Developer', 'Perficient', 'Nagpur, Maharashtra, India')\n"
          ]
        },
        {
          "output_type": "stream",
          "name": "stderr",
          "text": [
            "INFO:sqlalchemy.engine.Engine:[insertmanyvalues 2/14 (ordered; batch not supported)] ('AEM Developer', 'Perficient', 'Nagpur, Maharashtra, India')\n"
          ]
        },
        {
          "output_type": "stream",
          "name": "stdout",
          "text": [
            "2024-01-08 15:07:52,131 INFO sqlalchemy.engine.Engine INSERT INTO _job_listings_ (job_title, company_name, job_location) VALUES (?, ?, ?) RETURNING id\n"
          ]
        },
        {
          "output_type": "stream",
          "name": "stderr",
          "text": [
            "INFO:sqlalchemy.engine.Engine:INSERT INTO _job_listings_ (job_title, company_name, job_location) VALUES (?, ?, ?) RETURNING id\n"
          ]
        },
        {
          "output_type": "stream",
          "name": "stdout",
          "text": [
            "2024-01-08 15:07:52,133 INFO sqlalchemy.engine.Engine [insertmanyvalues 3/14 (ordered; batch not supported)] ('Hitachi Systems - L2 Systems Engineer - Hyper-V/XenServer', 'Hitachi Systems India Pvt Ltd', 'Nagpur, Maharashtra, India')\n"
          ]
        },
        {
          "output_type": "stream",
          "name": "stderr",
          "text": [
            "INFO:sqlalchemy.engine.Engine:[insertmanyvalues 3/14 (ordered; batch not supported)] ('Hitachi Systems - L2 Systems Engineer - Hyper-V/XenServer', 'Hitachi Systems India Pvt Ltd', 'Nagpur, Maharashtra, India')\n"
          ]
        },
        {
          "output_type": "stream",
          "name": "stdout",
          "text": [
            "2024-01-08 15:07:52,136 INFO sqlalchemy.engine.Engine INSERT INTO _job_listings_ (job_title, company_name, job_location) VALUES (?, ?, ?) RETURNING id\n"
          ]
        },
        {
          "output_type": "stream",
          "name": "stderr",
          "text": [
            "INFO:sqlalchemy.engine.Engine:INSERT INTO _job_listings_ (job_title, company_name, job_location) VALUES (?, ?, ?) RETURNING id\n"
          ]
        },
        {
          "output_type": "stream",
          "name": "stdout",
          "text": [
            "2024-01-08 15:07:52,137 INFO sqlalchemy.engine.Engine [insertmanyvalues 4/14 (ordered; batch not supported)] ('Hitachi Systems - L1 Systems Engineer - Virtualization Technologies', 'Hitachi Systems India Pvt Ltd', 'Nagpur, Maharashtra, India')\n"
          ]
        },
        {
          "output_type": "stream",
          "name": "stderr",
          "text": [
            "INFO:sqlalchemy.engine.Engine:[insertmanyvalues 4/14 (ordered; batch not supported)] ('Hitachi Systems - L1 Systems Engineer - Virtualization Technologies', 'Hitachi Systems India Pvt Ltd', 'Nagpur, Maharashtra, India')\n"
          ]
        },
        {
          "output_type": "stream",
          "name": "stdout",
          "text": [
            "2024-01-08 15:07:52,140 INFO sqlalchemy.engine.Engine INSERT INTO _job_listings_ (job_title, company_name, job_location) VALUES (?, ?, ?) RETURNING id\n"
          ]
        },
        {
          "output_type": "stream",
          "name": "stderr",
          "text": [
            "INFO:sqlalchemy.engine.Engine:INSERT INTO _job_listings_ (job_title, company_name, job_location) VALUES (?, ?, ?) RETURNING id\n"
          ]
        },
        {
          "output_type": "stream",
          "name": "stdout",
          "text": [
            "2024-01-08 15:07:52,142 INFO sqlalchemy.engine.Engine [insertmanyvalues 5/14 (ordered; batch not supported)] ('HCL Commerce Developer', 'Perficient', 'Nagpur, Maharashtra, India')\n"
          ]
        },
        {
          "output_type": "stream",
          "name": "stderr",
          "text": [
            "INFO:sqlalchemy.engine.Engine:[insertmanyvalues 5/14 (ordered; batch not supported)] ('HCL Commerce Developer', 'Perficient', 'Nagpur, Maharashtra, India')\n"
          ]
        },
        {
          "output_type": "stream",
          "name": "stdout",
          "text": [
            "2024-01-08 15:07:52,144 INFO sqlalchemy.engine.Engine INSERT INTO _job_listings_ (job_title, company_name, job_location) VALUES (?, ?, ?) RETURNING id\n"
          ]
        },
        {
          "output_type": "stream",
          "name": "stderr",
          "text": [
            "INFO:sqlalchemy.engine.Engine:INSERT INTO _job_listings_ (job_title, company_name, job_location) VALUES (?, ?, ?) RETURNING id\n"
          ]
        },
        {
          "output_type": "stream",
          "name": "stdout",
          "text": [
            "2024-01-08 15:07:52,146 INFO sqlalchemy.engine.Engine [insertmanyvalues 6/14 (ordered; batch not supported)] ('Appian Developer', 'Perficient', 'Nagpur, Maharashtra, India')\n"
          ]
        },
        {
          "output_type": "stream",
          "name": "stderr",
          "text": [
            "INFO:sqlalchemy.engine.Engine:[insertmanyvalues 6/14 (ordered; batch not supported)] ('Appian Developer', 'Perficient', 'Nagpur, Maharashtra, India')\n"
          ]
        },
        {
          "output_type": "stream",
          "name": "stdout",
          "text": [
            "2024-01-08 15:07:52,148 INFO sqlalchemy.engine.Engine INSERT INTO _job_listings_ (job_title, company_name, job_location) VALUES (?, ?, ?) RETURNING id\n"
          ]
        },
        {
          "output_type": "stream",
          "name": "stderr",
          "text": [
            "INFO:sqlalchemy.engine.Engine:INSERT INTO _job_listings_ (job_title, company_name, job_location) VALUES (?, ?, ?) RETURNING id\n"
          ]
        },
        {
          "output_type": "stream",
          "name": "stdout",
          "text": [
            "2024-01-08 15:07:52,150 INFO sqlalchemy.engine.Engine [insertmanyvalues 7/14 (ordered; batch not supported)] ('Lead Java Developer', 'Infosys', 'Nagpur, Maharashtra, India')\n"
          ]
        },
        {
          "output_type": "stream",
          "name": "stderr",
          "text": [
            "INFO:sqlalchemy.engine.Engine:[insertmanyvalues 7/14 (ordered; batch not supported)] ('Lead Java Developer', 'Infosys', 'Nagpur, Maharashtra, India')\n"
          ]
        },
        {
          "output_type": "stream",
          "name": "stdout",
          "text": [
            "2024-01-08 15:07:52,152 INFO sqlalchemy.engine.Engine INSERT INTO _job_listings_ (job_title, company_name, job_location) VALUES (?, ?, ?) RETURNING id\n"
          ]
        },
        {
          "output_type": "stream",
          "name": "stderr",
          "text": [
            "INFO:sqlalchemy.engine.Engine:INSERT INTO _job_listings_ (job_title, company_name, job_location) VALUES (?, ?, ?) RETURNING id\n"
          ]
        },
        {
          "output_type": "stream",
          "name": "stdout",
          "text": [
            "2024-01-08 15:07:52,154 INFO sqlalchemy.engine.Engine [insertmanyvalues 8/14 (ordered; batch not supported)] ('Salesforce Developer - Apex/SOQL', 'Lirik Infotech', 'Nagpur Rural, Maharashtra, India')\n"
          ]
        },
        {
          "output_type": "stream",
          "name": "stderr",
          "text": [
            "INFO:sqlalchemy.engine.Engine:[insertmanyvalues 8/14 (ordered; batch not supported)] ('Salesforce Developer - Apex/SOQL', 'Lirik Infotech', 'Nagpur Rural, Maharashtra, India')\n"
          ]
        },
        {
          "output_type": "stream",
          "name": "stdout",
          "text": [
            "2024-01-08 15:07:52,156 INFO sqlalchemy.engine.Engine INSERT INTO _job_listings_ (job_title, company_name, job_location) VALUES (?, ?, ?) RETURNING id\n"
          ]
        },
        {
          "output_type": "stream",
          "name": "stderr",
          "text": [
            "INFO:sqlalchemy.engine.Engine:INSERT INTO _job_listings_ (job_title, company_name, job_location) VALUES (?, ?, ?) RETURNING id\n"
          ]
        },
        {
          "output_type": "stream",
          "name": "stdout",
          "text": [
            "2024-01-08 15:07:52,158 INFO sqlalchemy.engine.Engine [insertmanyvalues 9/14 (ordered; batch not supported)] ('Amantya Technologies - Angular Developer - Javascript/TypeScript', 'Amantya Technologies', 'Nagpur Rural, Maharashtra, India')\n"
          ]
        },
        {
          "output_type": "stream",
          "name": "stderr",
          "text": [
            "INFO:sqlalchemy.engine.Engine:[insertmanyvalues 9/14 (ordered; batch not supported)] ('Amantya Technologies - Angular Developer - Javascript/TypeScript', 'Amantya Technologies', 'Nagpur Rural, Maharashtra, India')\n"
          ]
        },
        {
          "output_type": "stream",
          "name": "stdout",
          "text": [
            "2024-01-08 15:07:52,160 INFO sqlalchemy.engine.Engine INSERT INTO _job_listings_ (job_title, company_name, job_location) VALUES (?, ?, ?) RETURNING id\n"
          ]
        },
        {
          "output_type": "stream",
          "name": "stderr",
          "text": [
            "INFO:sqlalchemy.engine.Engine:INSERT INTO _job_listings_ (job_title, company_name, job_location) VALUES (?, ?, ?) RETURNING id\n"
          ]
        },
        {
          "output_type": "stream",
          "name": "stdout",
          "text": [
            "2024-01-08 15:07:52,162 INFO sqlalchemy.engine.Engine [insertmanyvalues 10/14 (ordered; batch not supported)] ('Senior Dotnet Developer', 'Infosys', 'Nagpur, Maharashtra, India')\n"
          ]
        },
        {
          "output_type": "stream",
          "name": "stderr",
          "text": [
            "INFO:sqlalchemy.engine.Engine:[insertmanyvalues 10/14 (ordered; batch not supported)] ('Senior Dotnet Developer', 'Infosys', 'Nagpur, Maharashtra, India')\n"
          ]
        },
        {
          "output_type": "stream",
          "name": "stdout",
          "text": [
            "2024-01-08 15:07:52,164 INFO sqlalchemy.engine.Engine INSERT INTO _job_listings_ (job_title, company_name, job_location) VALUES (?, ?, ?) RETURNING id\n"
          ]
        },
        {
          "output_type": "stream",
          "name": "stderr",
          "text": [
            "INFO:sqlalchemy.engine.Engine:INSERT INTO _job_listings_ (job_title, company_name, job_location) VALUES (?, ?, ?) RETURNING id\n"
          ]
        },
        {
          "output_type": "stream",
          "name": "stdout",
          "text": [
            "2024-01-08 15:07:52,166 INFO sqlalchemy.engine.Engine [insertmanyvalues 11/14 (ordered; batch not supported)] ('Salesforce Developer - Lightning Component Framework', 'Amantya Technologies', 'Nagpur, Maharashtra, India')\n"
          ]
        },
        {
          "output_type": "stream",
          "name": "stderr",
          "text": [
            "INFO:sqlalchemy.engine.Engine:[insertmanyvalues 11/14 (ordered; batch not supported)] ('Salesforce Developer - Lightning Component Framework', 'Amantya Technologies', 'Nagpur, Maharashtra, India')\n"
          ]
        },
        {
          "output_type": "stream",
          "name": "stdout",
          "text": [
            "2024-01-08 15:07:52,168 INFO sqlalchemy.engine.Engine INSERT INTO _job_listings_ (job_title, company_name, job_location) VALUES (?, ?, ?) RETURNING id\n"
          ]
        },
        {
          "output_type": "stream",
          "name": "stderr",
          "text": [
            "INFO:sqlalchemy.engine.Engine:INSERT INTO _job_listings_ (job_title, company_name, job_location) VALUES (?, ?, ?) RETURNING id\n"
          ]
        },
        {
          "output_type": "stream",
          "name": "stdout",
          "text": [
            "2024-01-08 15:07:52,170 INFO sqlalchemy.engine.Engine [insertmanyvalues 12/14 (ordered; batch not supported)] ('Hitachi Systems - L3 Systems Engineer - Virtualization/ESXi', 'Hitachi Systems India Pvt Ltd', 'Nagpur, Maharashtra, India')\n"
          ]
        },
        {
          "output_type": "stream",
          "name": "stderr",
          "text": [
            "INFO:sqlalchemy.engine.Engine:[insertmanyvalues 12/14 (ordered; batch not supported)] ('Hitachi Systems - L3 Systems Engineer - Virtualization/ESXi', 'Hitachi Systems India Pvt Ltd', 'Nagpur, Maharashtra, India')\n"
          ]
        },
        {
          "output_type": "stream",
          "name": "stdout",
          "text": [
            "2024-01-08 15:07:52,172 INFO sqlalchemy.engine.Engine INSERT INTO _job_listings_ (job_title, company_name, job_location) VALUES (?, ?, ?) RETURNING id\n"
          ]
        },
        {
          "output_type": "stream",
          "name": "stderr",
          "text": [
            "INFO:sqlalchemy.engine.Engine:INSERT INTO _job_listings_ (job_title, company_name, job_location) VALUES (?, ?, ?) RETURNING id\n"
          ]
        },
        {
          "output_type": "stream",
          "name": "stdout",
          "text": [
            "2024-01-08 15:07:52,174 INFO sqlalchemy.engine.Engine [insertmanyvalues 13/14 (ordered; batch not supported)] ('Dotnet Developer', 'Info Origin Inc.', 'Nagpur, Maharashtra, India')\n"
          ]
        },
        {
          "output_type": "stream",
          "name": "stderr",
          "text": [
            "INFO:sqlalchemy.engine.Engine:[insertmanyvalues 13/14 (ordered; batch not supported)] ('Dotnet Developer', 'Info Origin Inc.', 'Nagpur, Maharashtra, India')\n"
          ]
        },
        {
          "output_type": "stream",
          "name": "stdout",
          "text": [
            "2024-01-08 15:07:52,176 INFO sqlalchemy.engine.Engine INSERT INTO _job_listings_ (job_title, company_name, job_location) VALUES (?, ?, ?) RETURNING id\n"
          ]
        },
        {
          "output_type": "stream",
          "name": "stderr",
          "text": [
            "INFO:sqlalchemy.engine.Engine:INSERT INTO _job_listings_ (job_title, company_name, job_location) VALUES (?, ?, ?) RETURNING id\n"
          ]
        },
        {
          "output_type": "stream",
          "name": "stdout",
          "text": [
            "2024-01-08 15:07:52,178 INFO sqlalchemy.engine.Engine [insertmanyvalues 14/14 (ordered; batch not supported)] ('Sap Advanced Business Application Programming Developer', 'Tech Mahindra', 'Nagpur, Maharashtra, India')\n"
          ]
        },
        {
          "output_type": "stream",
          "name": "stderr",
          "text": [
            "INFO:sqlalchemy.engine.Engine:[insertmanyvalues 14/14 (ordered; batch not supported)] ('Sap Advanced Business Application Programming Developer', 'Tech Mahindra', 'Nagpur, Maharashtra, India')\n"
          ]
        },
        {
          "output_type": "stream",
          "name": "stdout",
          "text": [
            "2024-01-08 15:07:52,182 INFO sqlalchemy.engine.Engine COMMIT\n"
          ]
        },
        {
          "output_type": "stream",
          "name": "stderr",
          "text": [
            "INFO:sqlalchemy.engine.Engine:COMMIT\n"
          ]
        }
      ]
    },
    {
      "cell_type": "code",
      "source": [
        "   # Query and print the database entries\n",
        "   jobs = db_session.query(JobListing).all()\n",
        "   for job in jobs:\n",
        "    print(f\"Title: {job.job_title}, Company: {job.company_name}, Location: {job.job_location}\")"
      ],
      "metadata": {
        "id": "hbZcmggjCLn-",
        "colab": {
          "base_uri": "https://localhost:8080/"
        },
        "outputId": "194732ec-4cf4-4492-cbc3-0fead8de56ec"
      },
      "execution_count": null,
      "outputs": [
        {
          "output_type": "stream",
          "name": "stdout",
          "text": [
            "2024-01-08 15:07:58,483 INFO sqlalchemy.engine.Engine BEGIN (implicit)\n"
          ]
        },
        {
          "output_type": "stream",
          "name": "stderr",
          "text": [
            "INFO:sqlalchemy.engine.Engine:BEGIN (implicit)\n"
          ]
        },
        {
          "output_type": "stream",
          "name": "stdout",
          "text": [
            "2024-01-08 15:07:58,492 INFO sqlalchemy.engine.Engine SELECT _job_listings_.id AS _job_listings__id, _job_listings_.job_title AS _job_listings__job_title, _job_listings_.company_name AS _job_listings__company_name, _job_listings_.job_location AS _job_listings__job_location \n",
            "FROM _job_listings_\n"
          ]
        },
        {
          "output_type": "stream",
          "name": "stderr",
          "text": [
            "INFO:sqlalchemy.engine.Engine:SELECT _job_listings_.id AS _job_listings__id, _job_listings_.job_title AS _job_listings__job_title, _job_listings_.company_name AS _job_listings__company_name, _job_listings_.job_location AS _job_listings__job_location \n",
            "FROM _job_listings_\n"
          ]
        },
        {
          "output_type": "stream",
          "name": "stdout",
          "text": [
            "2024-01-08 15:07:58,497 INFO sqlalchemy.engine.Engine [generated in 0.00576s] ()\n"
          ]
        },
        {
          "output_type": "stream",
          "name": "stderr",
          "text": [
            "INFO:sqlalchemy.engine.Engine:[generated in 0.00576s] ()\n"
          ]
        },
        {
          "output_type": "stream",
          "name": "stdout",
          "text": [
            "Title: Salesforce - Lead Developer, Company: Perficient, Location: Nagpur, Maharashtra, India\n",
            "Title: AEM Developer, Company: Perficient, Location: Nagpur, Maharashtra, India\n",
            "Title: Hitachi Systems - L2 Systems Engineer - Hyper-V/XenServer, Company: Hitachi Systems India Pvt Ltd, Location: Nagpur, Maharashtra, India\n",
            "Title: Hitachi Systems - L1 Systems Engineer - Virtualization Technologies, Company: Hitachi Systems India Pvt Ltd, Location: Nagpur, Maharashtra, India\n",
            "Title: HCL Commerce Developer, Company: Perficient, Location: Nagpur, Maharashtra, India\n",
            "Title: Appian Developer, Company: Perficient, Location: Nagpur, Maharashtra, India\n",
            "Title: Lead Java Developer, Company: Infosys, Location: Nagpur, Maharashtra, India\n",
            "Title: Salesforce Developer - Apex/SOQL, Company: Lirik Infotech, Location: Nagpur Rural, Maharashtra, India\n",
            "Title: Amantya Technologies - Angular Developer - Javascript/TypeScript, Company: Amantya Technologies, Location: Nagpur Rural, Maharashtra, India\n",
            "Title: Senior Dotnet Developer, Company: Infosys, Location: Nagpur, Maharashtra, India\n",
            "Title: Salesforce Developer - Lightning Component Framework, Company: Amantya Technologies, Location: Nagpur, Maharashtra, India\n",
            "Title: Hitachi Systems - L3 Systems Engineer - Virtualization/ESXi, Company: Hitachi Systems India Pvt Ltd, Location: Nagpur, Maharashtra, India\n",
            "Title: Dotnet Developer, Company: Info Origin Inc., Location: Nagpur, Maharashtra, India\n",
            "Title: Sap Advanced Business Application Programming Developer, Company: Tech Mahindra, Location: Nagpur, Maharashtra, India\n"
          ]
        }
      ]
    },
    {
      "cell_type": "code",
      "source": [],
      "metadata": {
        "id": "R_qIGOoFCLwG"
      },
      "execution_count": null,
      "outputs": []
    }
  ]
}